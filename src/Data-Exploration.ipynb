{
 "cells": [
  {
   "cell_type": "markdown",
   "metadata": {},
   "source": [
    "# Data Exploration\n",
    "<p>\n",
    "    This notebook should contain preliminary data exploration and graphing of the data set.\n",
    "</p>\n",
    "<p>\n",
    "    Last modified 4/14/18 by Kate Baumli\n",
    "</p>"
   ]
  },
  {
   "cell_type": "code",
   "execution_count": 28,
   "metadata": {},
   "outputs": [
    {
     "name": "stdout",
     "output_type": "stream",
     "text": [
      "Requirement already satisfied: gender-guesser in /home/humble-fool/school_work/Spring_18/Data-Science-Lab-Final-Project/lib/python3.5/site-packages (0.4.0)\n",
      "[nltk_data] Downloading package stopwords to /home/humble-\n",
      "[nltk_data]     fool/nltk_data...\n",
      "[nltk_data]   Package stopwords is already up-to-date!\n"
     ]
    },
    {
     "data": {
      "text/plain": [
       "True"
      ]
     },
     "execution_count": 28,
     "metadata": {},
     "output_type": "execute_result"
    }
   ],
   "source": [
    "! pip install gender-guesser\n",
    "import pandas as pd\n",
    "import numpy as np\n",
    "import re\n",
    "import nltk\n",
    "import seaborn as sns\n",
    "import matplotlib.pyplot as plt\n",
    "import gender_guesser.detector as gender\n",
    "from collections import Counter\n",
    "from IPython.core.interactiveshell import InteractiveShell\n",
    "InteractiveShell.ast_node_interactivity = \"all\"\n",
    "from nltk.corpus import stopwords\n",
    "from nltk.tokenize import word_tokenize\n",
    "nltk.download('stopwords')\n",
    "import os"
   ]
  },
  {
   "cell_type": "markdown",
   "metadata": {},
   "source": [
    "First load up the data."
   ]
  },
  {
   "cell_type": "code",
   "execution_count": 2,
   "metadata": {},
   "outputs": [],
   "source": [
    "filepath = '../data/kaggle-data/'\n",
    "filename = 'merged_data.csv'\n",
    "data = pd.read_csv(filepath + filename)\n",
    "# drop extra index column\n",
    "data.drop('Unnamed: 0', axis=1, inplace=True)"
   ]
  },
  {
   "cell_type": "code",
   "execution_count": 3,
   "metadata": {},
   "outputs": [
    {
     "data": {
      "text/html": [
       "<div>\n",
       "<style scoped>\n",
       "    .dataframe tbody tr th:only-of-type {\n",
       "        vertical-align: middle;\n",
       "    }\n",
       "\n",
       "    .dataframe tbody tr th {\n",
       "        vertical-align: top;\n",
       "    }\n",
       "\n",
       "    .dataframe thead th {\n",
       "        text-align: right;\n",
       "    }\n",
       "</style>\n",
       "<table border=\"1\" class=\"dataframe\">\n",
       "  <thead>\n",
       "    <tr style=\"text-align: right;\">\n",
       "      <th></th>\n",
       "      <th>Unnamed: 0.1</th>\n",
       "      <th>transcript</th>\n",
       "      <th>url</th>\n",
       "      <th>clean_transcripts</th>\n",
       "      <th>comments</th>\n",
       "      <th>description</th>\n",
       "      <th>duration</th>\n",
       "      <th>event</th>\n",
       "      <th>film_date</th>\n",
       "      <th>languages</th>\n",
       "      <th>...</th>\n",
       "      <th>num_speaker</th>\n",
       "      <th>published_date</th>\n",
       "      <th>ratings</th>\n",
       "      <th>related_talks</th>\n",
       "      <th>speaker_occupation</th>\n",
       "      <th>tags</th>\n",
       "      <th>title</th>\n",
       "      <th>url.1</th>\n",
       "      <th>views</th>\n",
       "      <th>stripped_transcripts</th>\n",
       "    </tr>\n",
       "  </thead>\n",
       "  <tbody>\n",
       "    <tr>\n",
       "      <th>0</th>\n",
       "      <td>0</td>\n",
       "      <td>Good morning. How are you?(Laughter)It's been ...</td>\n",
       "      <td>https://www.ted.com/talks/ken_robinson_says_sc...</td>\n",
       "      <td>good morning\\nhow are you\\nlaughter\\nits been ...</td>\n",
       "      <td>4553</td>\n",
       "      <td>Sir Ken Robinson makes an entertaining and pro...</td>\n",
       "      <td>1164</td>\n",
       "      <td>TED2006</td>\n",
       "      <td>1140825600</td>\n",
       "      <td>60</td>\n",
       "      <td>...</td>\n",
       "      <td>1</td>\n",
       "      <td>1151367060</td>\n",
       "      <td>[{'id': 7, 'name': 'Funny', 'count': 19645}, {...</td>\n",
       "      <td>[{'id': 865, 'hero': 'https://pe.tedcdn.com/im...</td>\n",
       "      <td>Author/educator</td>\n",
       "      <td>['children', 'creativity', 'culture', 'dance',...</td>\n",
       "      <td>Do schools kill creativity?</td>\n",
       "      <td>https://www.ted.com/talks/ken_robinson_says_sc...</td>\n",
       "      <td>47227110</td>\n",
       "      <td>['good', 'morning', 'how', 'are', 'you', 'laug...</td>\n",
       "    </tr>\n",
       "    <tr>\n",
       "      <th>1</th>\n",
       "      <td>1</td>\n",
       "      <td>Thank you so much, Chris. And it's truly a gre...</td>\n",
       "      <td>https://www.ted.com/talks/al_gore_on_averting_...</td>\n",
       "      <td>thank you so much, chris\\nand its truly a grea...</td>\n",
       "      <td>265</td>\n",
       "      <td>With the same humor and humanity he exuded in ...</td>\n",
       "      <td>977</td>\n",
       "      <td>TED2006</td>\n",
       "      <td>1140825600</td>\n",
       "      <td>43</td>\n",
       "      <td>...</td>\n",
       "      <td>1</td>\n",
       "      <td>1151367060</td>\n",
       "      <td>[{'id': 7, 'name': 'Funny', 'count': 544}, {'i...</td>\n",
       "      <td>[{'id': 243, 'hero': 'https://pe.tedcdn.com/im...</td>\n",
       "      <td>Climate advocate</td>\n",
       "      <td>['alternative energy', 'cars', 'climate change...</td>\n",
       "      <td>Averting the climate crisis</td>\n",
       "      <td>https://www.ted.com/talks/al_gore_on_averting_...</td>\n",
       "      <td>3200520</td>\n",
       "      <td>['thank', 'you', 'so', 'much,', 'chris', 'and'...</td>\n",
       "    </tr>\n",
       "    <tr>\n",
       "      <th>2</th>\n",
       "      <td>2</td>\n",
       "      <td>(Music: \"The Sound of Silence,\" Simon &amp; Garfun...</td>\n",
       "      <td>https://www.ted.com/talks/david_pogue_says_sim...</td>\n",
       "      <td>music: the sound of silence, simon &amp; garfunkel...</td>\n",
       "      <td>124</td>\n",
       "      <td>New York Times columnist David Pogue takes aim...</td>\n",
       "      <td>1286</td>\n",
       "      <td>TED2006</td>\n",
       "      <td>1140739200</td>\n",
       "      <td>26</td>\n",
       "      <td>...</td>\n",
       "      <td>1</td>\n",
       "      <td>1151367060</td>\n",
       "      <td>[{'id': 7, 'name': 'Funny', 'count': 964}, {'i...</td>\n",
       "      <td>[{'id': 1725, 'hero': 'https://pe.tedcdn.com/i...</td>\n",
       "      <td>Technology columnist</td>\n",
       "      <td>['computers', 'entertainment', 'interface desi...</td>\n",
       "      <td>Simplicity sells</td>\n",
       "      <td>https://www.ted.com/talks/david_pogue_says_sim...</td>\n",
       "      <td>1636292</td>\n",
       "      <td>['music:', 'the', 'sound', 'of', 'silence,', '...</td>\n",
       "    </tr>\n",
       "    <tr>\n",
       "      <th>3</th>\n",
       "      <td>3</td>\n",
       "      <td>If you're here today — and I'm very happy that...</td>\n",
       "      <td>https://www.ted.com/talks/majora_carter_s_tale...</td>\n",
       "      <td>if youre here today — and im very happy that y...</td>\n",
       "      <td>200</td>\n",
       "      <td>In an emotionally charged talk, MacArthur-winn...</td>\n",
       "      <td>1116</td>\n",
       "      <td>TED2006</td>\n",
       "      <td>1140912000</td>\n",
       "      <td>35</td>\n",
       "      <td>...</td>\n",
       "      <td>1</td>\n",
       "      <td>1151367060</td>\n",
       "      <td>[{'id': 3, 'name': 'Courageous', 'count': 760}...</td>\n",
       "      <td>[{'id': 1041, 'hero': 'https://pe.tedcdn.com/i...</td>\n",
       "      <td>Activist for environmental justice</td>\n",
       "      <td>['MacArthur grant', 'activism', 'business', 'c...</td>\n",
       "      <td>Greening the ghetto</td>\n",
       "      <td>https://www.ted.com/talks/majora_carter_s_tale...</td>\n",
       "      <td>1697550</td>\n",
       "      <td>['if', 'youre', 'here', 'today', '—', 'and', '...</td>\n",
       "    </tr>\n",
       "    <tr>\n",
       "      <th>4</th>\n",
       "      <td>4</td>\n",
       "      <td>About 10 years ago, I took on the task to teac...</td>\n",
       "      <td>https://www.ted.com/talks/hans_rosling_shows_t...</td>\n",
       "      <td>about 10 years ago, i took on the task to teac...</td>\n",
       "      <td>593</td>\n",
       "      <td>You've never seen data presented like this. Wi...</td>\n",
       "      <td>1190</td>\n",
       "      <td>TED2006</td>\n",
       "      <td>1140566400</td>\n",
       "      <td>48</td>\n",
       "      <td>...</td>\n",
       "      <td>1</td>\n",
       "      <td>1151440680</td>\n",
       "      <td>[{'id': 9, 'name': 'Ingenious', 'count': 3202}...</td>\n",
       "      <td>[{'id': 2056, 'hero': 'https://pe.tedcdn.com/i...</td>\n",
       "      <td>Global health expert; data visionary</td>\n",
       "      <td>['Africa', 'Asia', 'Google', 'demo', 'economic...</td>\n",
       "      <td>The best stats you've ever seen</td>\n",
       "      <td>https://www.ted.com/talks/hans_rosling_shows_t...</td>\n",
       "      <td>12005869</td>\n",
       "      <td>['about', '10', 'years', 'ago,', 'i', 'took', ...</td>\n",
       "    </tr>\n",
       "  </tbody>\n",
       "</table>\n",
       "<p>5 rows × 22 columns</p>\n",
       "</div>"
      ],
      "text/plain": [
       "   Unnamed: 0.1                                         transcript  \\\n",
       "0             0  Good morning. How are you?(Laughter)It's been ...   \n",
       "1             1  Thank you so much, Chris. And it's truly a gre...   \n",
       "2             2  (Music: \"The Sound of Silence,\" Simon & Garfun...   \n",
       "3             3  If you're here today — and I'm very happy that...   \n",
       "4             4  About 10 years ago, I took on the task to teac...   \n",
       "\n",
       "                                                 url  \\\n",
       "0  https://www.ted.com/talks/ken_robinson_says_sc...   \n",
       "1  https://www.ted.com/talks/al_gore_on_averting_...   \n",
       "2  https://www.ted.com/talks/david_pogue_says_sim...   \n",
       "3  https://www.ted.com/talks/majora_carter_s_tale...   \n",
       "4  https://www.ted.com/talks/hans_rosling_shows_t...   \n",
       "\n",
       "                                   clean_transcripts  comments  \\\n",
       "0  good morning\\nhow are you\\nlaughter\\nits been ...      4553   \n",
       "1  thank you so much, chris\\nand its truly a grea...       265   \n",
       "2  music: the sound of silence, simon & garfunkel...       124   \n",
       "3  if youre here today — and im very happy that y...       200   \n",
       "4  about 10 years ago, i took on the task to teac...       593   \n",
       "\n",
       "                                         description  duration    event  \\\n",
       "0  Sir Ken Robinson makes an entertaining and pro...      1164  TED2006   \n",
       "1  With the same humor and humanity he exuded in ...       977  TED2006   \n",
       "2  New York Times columnist David Pogue takes aim...      1286  TED2006   \n",
       "3  In an emotionally charged talk, MacArthur-winn...      1116  TED2006   \n",
       "4  You've never seen data presented like this. Wi...      1190  TED2006   \n",
       "\n",
       "    film_date  languages                        ...                          \\\n",
       "0  1140825600         60                        ...                           \n",
       "1  1140825600         43                        ...                           \n",
       "2  1140739200         26                        ...                           \n",
       "3  1140912000         35                        ...                           \n",
       "4  1140566400         48                        ...                           \n",
       "\n",
       "  num_speaker published_date  \\\n",
       "0           1     1151367060   \n",
       "1           1     1151367060   \n",
       "2           1     1151367060   \n",
       "3           1     1151367060   \n",
       "4           1     1151440680   \n",
       "\n",
       "                                             ratings  \\\n",
       "0  [{'id': 7, 'name': 'Funny', 'count': 19645}, {...   \n",
       "1  [{'id': 7, 'name': 'Funny', 'count': 544}, {'i...   \n",
       "2  [{'id': 7, 'name': 'Funny', 'count': 964}, {'i...   \n",
       "3  [{'id': 3, 'name': 'Courageous', 'count': 760}...   \n",
       "4  [{'id': 9, 'name': 'Ingenious', 'count': 3202}...   \n",
       "\n",
       "                                       related_talks  \\\n",
       "0  [{'id': 865, 'hero': 'https://pe.tedcdn.com/im...   \n",
       "1  [{'id': 243, 'hero': 'https://pe.tedcdn.com/im...   \n",
       "2  [{'id': 1725, 'hero': 'https://pe.tedcdn.com/i...   \n",
       "3  [{'id': 1041, 'hero': 'https://pe.tedcdn.com/i...   \n",
       "4  [{'id': 2056, 'hero': 'https://pe.tedcdn.com/i...   \n",
       "\n",
       "                     speaker_occupation  \\\n",
       "0                       Author/educator   \n",
       "1                      Climate advocate   \n",
       "2                  Technology columnist   \n",
       "3    Activist for environmental justice   \n",
       "4  Global health expert; data visionary   \n",
       "\n",
       "                                                tags  \\\n",
       "0  ['children', 'creativity', 'culture', 'dance',...   \n",
       "1  ['alternative energy', 'cars', 'climate change...   \n",
       "2  ['computers', 'entertainment', 'interface desi...   \n",
       "3  ['MacArthur grant', 'activism', 'business', 'c...   \n",
       "4  ['Africa', 'Asia', 'Google', 'demo', 'economic...   \n",
       "\n",
       "                             title  \\\n",
       "0      Do schools kill creativity?   \n",
       "1      Averting the climate crisis   \n",
       "2                 Simplicity sells   \n",
       "3              Greening the ghetto   \n",
       "4  The best stats you've ever seen   \n",
       "\n",
       "                                               url.1     views  \\\n",
       "0  https://www.ted.com/talks/ken_robinson_says_sc...  47227110   \n",
       "1  https://www.ted.com/talks/al_gore_on_averting_...   3200520   \n",
       "2  https://www.ted.com/talks/david_pogue_says_sim...   1636292   \n",
       "3  https://www.ted.com/talks/majora_carter_s_tale...   1697550   \n",
       "4  https://www.ted.com/talks/hans_rosling_shows_t...  12005869   \n",
       "\n",
       "                                stripped_transcripts  \n",
       "0  ['good', 'morning', 'how', 'are', 'you', 'laug...  \n",
       "1  ['thank', 'you', 'so', 'much,', 'chris', 'and'...  \n",
       "2  ['music:', 'the', 'sound', 'of', 'silence,', '...  \n",
       "3  ['if', 'youre', 'here', 'today', '—', 'and', '...  \n",
       "4  ['about', '10', 'years', 'ago,', 'i', 'took', ...  \n",
       "\n",
       "[5 rows x 22 columns]"
      ]
     },
     "execution_count": 3,
     "metadata": {},
     "output_type": "execute_result"
    }
   ],
   "source": [
    "# Output suppressed\n",
    "#data.describe()\n",
    "#data.info()\n",
    "data.head()"
   ]
  },
  {
   "cell_type": "code",
   "execution_count": 4,
   "metadata": {},
   "outputs": [],
   "source": [
    "# Output suppressed, this is to check data was cleaned properly\n",
    "#print(data.clean_transcripts[0]) "
   ]
  },
  {
   "cell_type": "code",
   "execution_count": 5,
   "metadata": {},
   "outputs": [
    {
     "name": "stdout",
     "output_type": "stream",
     "text": [
      "The number of NaN clean transcripts is:\t\t0\n",
      "The number of NaN original transcripts is:\t0\n"
     ]
    }
   ],
   "source": [
    "print('The number of NaN clean transcripts is:\\t\\t{}'.\n",
    "      format(data.clean_transcripts.isnull().sum()))\n",
    "print('The number of NaN original transcripts is:\\t{}'.\n",
    "      format(data.transcript.isnull().sum()))"
   ]
  },
  {
   "cell_type": "markdown",
   "metadata": {},
   "source": [
    "That is something we need to look into... For the moment I am going to drop them."
   ]
  },
  {
   "cell_type": "code",
   "execution_count": 6,
   "metadata": {},
   "outputs": [],
   "source": [
    "# Assuming the NaN are the same rows in both columns\n",
    "data_trimmed = data.dropna(subset=['clean_transcripts'])"
   ]
  },
  {
   "cell_type": "code",
   "execution_count": 7,
   "metadata": {},
   "outputs": [
    {
     "name": "stdout",
     "output_type": "stream",
     "text": [
      "9176\n",
      "Zeynep Tufekci: Machine intelligence makes human morals more important\n"
     ]
    }
   ],
   "source": [
    "# Find transcript with the most words\n",
    "maxLen = 0\n",
    "for row in data_trimmed.itertuples():\n",
    "    if len(row.clean_transcripts.split()) >= maxLen:\n",
    "        maxLen = len(row.clean_transcripts.split()) \n",
    "        longestTalk = row.name\n",
    "print(maxLen)\n",
    "print(longestTalk)"
   ]
  },
  {
   "cell_type": "code",
   "execution_count": 8,
   "metadata": {},
   "outputs": [],
   "source": [
    "def getWords(df,removeStopWords):\n",
    "    words = []\n",
    "    for row in df.itertuples():\n",
    "        words.extend(row.clean_transcripts.split())\n",
    "    print('Total number of words: ',len(words))\n",
    "    \n",
    "    # Removing Stopwords ('the', 'it', 'is', 'and', etc)\n",
    "    if removeStopWords:\n",
    "        stopWords = set(stopwords.words('english'))\n",
    "        print(\"Removing the stop words... \")\n",
    "        \n",
    "        filteredWords =[]\n",
    "        for word in words: \n",
    "            if word not in stopWords:\n",
    "                filteredWords.append(word)\n",
    "                \n",
    "        print('Total number of words excluding stop words: ',len(filteredWords))\n",
    "        return filteredWords\n",
    "    \n",
    "    return words"
   ]
  },
  {
   "cell_type": "code",
   "execution_count": 9,
   "metadata": {},
   "outputs": [],
   "source": [
    "def mostFrequentWords(df, numWordsDesired, descriptor='', removeStopWords=True, normalize=False):\n",
    "    # This loops over all rows in the clean transcripts column and \n",
    "    # puts every word in every transcript into a list called words\n",
    "    words = getWords(df,removeStopWords)\n",
    "    \n",
    "    descriptor2=''\n",
    "    if removeStopWords:\n",
    "        descriptor2 = '(excluding stop words like \\'the\\')'\n",
    "    \n",
    "    # Get counts for each word\n",
    "    wordCounts = Counter(words)\n",
    "    print(descriptor,'Number of unique words:',descriptor2,len(wordCounts))\n",
    "\n",
    "    # Grab the most common words\n",
    "    mostCommon = dict()\n",
    "    for word, wordCount in wordCounts.most_common(numWordsDesired):\n",
    "        if normalize:\n",
    "            # Divide by total # of words to get percentage of words said\n",
    "            mostCommon[word] = wordCount/float(len(words)) \n",
    "        else:\n",
    "            mostCommon[word] = wordCount\n",
    "    # Plot a histogram\n",
    "    _ = plt.figure(figsize=(20,10))\n",
    "    _ = sns.barplot(list(mostCommon.keys()), list(mostCommon.values()))\n",
    "    title = ('The '+str(numWordsDesired)+' Most Common Words ' + descriptor2 +\n",
    "             ' In All ' + descriptor +' TED Talk Transcripts')\n",
    "    _ = plt.title(title)\n",
    "    _ = plt.xticks(rotation=300)\n",
    "    plt.show()\n",
    "    \n",
    "    # Return list of most common words\n",
    "    return mostCommon"
   ]
  },
  {
   "cell_type": "code",
   "execution_count": 10,
   "metadata": {},
   "outputs": [
    {
     "name": "stdout",
     "output_type": "stream",
     "text": [
      "Total number of words:  5097705\n",
      "Removing the stop words... \n",
      "Total number of words excluding stop words:  2564395\n",
      " Number of unique words: (excluding stop words like 'the') 102908\n"
     ]
    },
    {
     "data": {
      "image/png": "[encoded data removed]",
      "text/plain": [
       "<matplotlib.figure.Figure at 0x7fbc664da0f0>"
      ]
     },
     "metadata": {},
     "output_type": "display_data"
    }
   ],
   "source": [
    "_ = mostFrequentWords(data_trimmed,75)"
   ]
  },
  {
   "cell_type": "markdown",
   "metadata": {},
   "source": [
    "### Let's break the data set into two segments based on (guessed) speaker gender"
   ]
  },
  {
   "cell_type": "code",
   "execution_count": 11,
   "metadata": {},
   "outputs": [],
   "source": [
    "genDetector = gender.Detector()\n",
    "speakerNames = data_trimmed.main_speaker.tolist()\n",
    "\n",
    "speakerFirstNames = []\n",
    "genders = []\n",
    "for name in speakerNames:\n",
    "    firstLastName = name.split(' ')\n",
    "    firstName = firstLastName[0]\n",
    "    speakerFirstNames.append(firstName)\n",
    "    genders.append(genDetector.get_gender(firstName))\n",
    "data_trimmed['gender'] = genders\n"
   ]
  },
  {
   "cell_type": "code",
   "execution_count": 12,
   "metadata": {},
   "outputs": [
    {
     "data": {
      "image/png": "[encoded data removed]",
      "text/plain": [
       "<matplotlib.figure.Figure at 0x7fbc64bb8080>"
      ]
     },
     "metadata": {},
     "output_type": "display_data"
    }
   ],
   "source": [
    "# Plot a histogram of genders\n",
    "genderCounts = Counter(genders)\n",
    "_ = plt.figure(figsize=(10,5))\n",
    "_ = sns.barplot(list(genderCounts.keys()), list(genderCounts.values()))\n",
    "title = 'Distribution of TED Talk Speaker Genders'\n",
    "_ = plt.title(title)\n",
    "_ = plt.xticks(rotation=300)\n",
    "plt.show()"
   ]
  },
  {
   "cell_type": "markdown",
   "metadata": {},
   "source": [
    "I'm going to go ahead and add the \"mostly_female\" names to female category and \"mostly_male\" names to male category. Unsure what to do about androgynous/unknown categories. We might have to go through and manually label these.<p>\n",
    "Also, since classes are skewed we should normalize features when comparing."
   ]
  },
  {
   "cell_type": "code",
   "execution_count": 13,
   "metadata": {},
   "outputs": [],
   "source": [
    "for i,gender in enumerate(genders):\n",
    "    if gender == 'mostly_male':\n",
    "        genders[i] = 'male'\n",
    "    if gender == 'mostly_female':\n",
    "        genders[i] = 'female'\n",
    "    if gender == 'andy':\n",
    "        genders[i] = 'unknown' # No need to have 2 unknown categories if we're going to have to manually label anyways"
   ]
  },
  {
   "cell_type": "code",
   "execution_count": 14,
   "metadata": {},
   "outputs": [
    {
     "data": {
      "image/png": "[encoded data removed]",
      "text/plain": [
       "<matplotlib.figure.Figure at 0x7fbc6727cac8>"
      ]
     },
     "metadata": {},
     "output_type": "display_data"
    }
   ],
   "source": [
    "data_trimmed['gender'] = genders\n",
    "# Replot a histogram of genders\n",
    "genderCounts = Counter(genders)\n",
    "_ = plt.figure(figsize=(10,5))\n",
    "_ = sns.barplot(list(genderCounts.keys()), list(genderCounts.values()))\n",
    "title = 'Distribution of TED Talk Speaker Genders'\n",
    "_ = plt.title(title)\n",
    "_ = plt.xticks(rotation=300)\n",
    "plt.show()"
   ]
  },
  {
   "cell_type": "markdown",
   "metadata": {},
   "source": [
    "Right off the bat we can see that about twice as many speakers are men than women(disregarding the unknown). Let's compare the average # of views of men vs women."
   ]
  },
  {
   "cell_type": "code",
   "execution_count": 15,
   "metadata": {},
   "outputs": [
    {
     "name": "stdout",
     "output_type": "stream",
     "text": [
      "Description of male speaker TED data:\n"
     ]
    },
    {
     "data": {
      "text/html": [
       "<div>\n",
       "<style scoped>\n",
       "    .dataframe tbody tr th:only-of-type {\n",
       "        vertical-align: middle;\n",
       "    }\n",
       "\n",
       "    .dataframe tbody tr th {\n",
       "        vertical-align: top;\n",
       "    }\n",
       "\n",
       "    .dataframe thead th {\n",
       "        text-align: right;\n",
       "    }\n",
       "</style>\n",
       "<table border=\"1\" class=\"dataframe\">\n",
       "  <thead>\n",
       "    <tr style=\"text-align: right;\">\n",
       "      <th></th>\n",
       "      <th>Unnamed: 0.1</th>\n",
       "      <th>comments</th>\n",
       "      <th>duration</th>\n",
       "      <th>film_date</th>\n",
       "      <th>languages</th>\n",
       "      <th>num_speaker</th>\n",
       "      <th>published_date</th>\n",
       "      <th>views</th>\n",
       "    </tr>\n",
       "  </thead>\n",
       "  <tbody>\n",
       "    <tr>\n",
       "      <th>count</th>\n",
       "      <td>1490.000000</td>\n",
       "      <td>1490.000000</td>\n",
       "      <td>1490.000000</td>\n",
       "      <td>1.490000e+03</td>\n",
       "      <td>1490.000000</td>\n",
       "      <td>1490.000000</td>\n",
       "      <td>1.490000e+03</td>\n",
       "      <td>1.490000e+03</td>\n",
       "    </tr>\n",
       "    <tr>\n",
       "      <th>mean</th>\n",
       "      <td>1139.281208</td>\n",
       "      <td>205.567114</td>\n",
       "      <td>860.734228</td>\n",
       "      <td>1.300597e+09</td>\n",
       "      <td>27.838926</td>\n",
       "      <td>1.024161</td>\n",
       "      <td>1.326112e+09</td>\n",
       "      <td>1.723878e+06</td>\n",
       "    </tr>\n",
       "    <tr>\n",
       "      <th>std</th>\n",
       "      <td>697.949177</td>\n",
       "      <td>306.483377</td>\n",
       "      <td>402.323638</td>\n",
       "      <td>1.232214e+08</td>\n",
       "      <td>9.079876</td>\n",
       "      <td>0.166201</td>\n",
       "      <td>8.987412e+07</td>\n",
       "      <td>2.496100e+06</td>\n",
       "    </tr>\n",
       "    <tr>\n",
       "      <th>min</th>\n",
       "      <td>0.000000</td>\n",
       "      <td>9.000000</td>\n",
       "      <td>135.000000</td>\n",
       "      <td>7.464960e+07</td>\n",
       "      <td>0.000000</td>\n",
       "      <td>1.000000</td>\n",
       "      <td>1.151367e+09</td>\n",
       "      <td>6.666800e+04</td>\n",
       "    </tr>\n",
       "    <tr>\n",
       "      <th>25%</th>\n",
       "      <td>526.250000</td>\n",
       "      <td>70.000000</td>\n",
       "      <td>600.250000</td>\n",
       "      <td>1.248134e+09</td>\n",
       "      <td>23.000000</td>\n",
       "      <td>1.000000</td>\n",
       "      <td>1.254403e+09</td>\n",
       "      <td>7.441788e+05</td>\n",
       "    </tr>\n",
       "    <tr>\n",
       "      <th>50%</th>\n",
       "      <td>1124.000000</td>\n",
       "      <td>128.000000</td>\n",
       "      <td>894.000000</td>\n",
       "      <td>1.316822e+09</td>\n",
       "      <td>28.000000</td>\n",
       "      <td>1.000000</td>\n",
       "      <td>1.327637e+09</td>\n",
       "      <td>1.140840e+06</td>\n",
       "    </tr>\n",
       "    <tr>\n",
       "      <th>75%</th>\n",
       "      <td>1719.750000</td>\n",
       "      <td>238.000000</td>\n",
       "      <td>1074.000000</td>\n",
       "      <td>1.383091e+09</td>\n",
       "      <td>33.000000</td>\n",
       "      <td>1.000000</td>\n",
       "      <td>1.397121e+09</td>\n",
       "      <td>1.777379e+06</td>\n",
       "    </tr>\n",
       "    <tr>\n",
       "      <th>max</th>\n",
       "      <td>2466.000000</td>\n",
       "      <td>6404.000000</td>\n",
       "      <td>5256.000000</td>\n",
       "      <td>1.493078e+09</td>\n",
       "      <td>72.000000</td>\n",
       "      <td>3.000000</td>\n",
       "      <td>1.496418e+09</td>\n",
       "      <td>4.722711e+07</td>\n",
       "    </tr>\n",
       "  </tbody>\n",
       "</table>\n",
       "</div>"
      ],
      "text/plain": [
       "       Unnamed: 0.1     comments     duration     film_date    languages  \\\n",
       "count   1490.000000  1490.000000  1490.000000  1.490000e+03  1490.000000   \n",
       "mean    1139.281208   205.567114   860.734228  1.300597e+09    27.838926   \n",
       "std      697.949177   306.483377   402.323638  1.232214e+08     9.079876   \n",
       "min        0.000000     9.000000   135.000000  7.464960e+07     0.000000   \n",
       "25%      526.250000    70.000000   600.250000  1.248134e+09    23.000000   \n",
       "50%     1124.000000   128.000000   894.000000  1.316822e+09    28.000000   \n",
       "75%     1719.750000   238.000000  1074.000000  1.383091e+09    33.000000   \n",
       "max     2466.000000  6404.000000  5256.000000  1.493078e+09    72.000000   \n",
       "\n",
       "       num_speaker  published_date         views  \n",
       "count  1490.000000    1.490000e+03  1.490000e+03  \n",
       "mean      1.024161    1.326112e+09  1.723878e+06  \n",
       "std       0.166201    8.987412e+07  2.496100e+06  \n",
       "min       1.000000    1.151367e+09  6.666800e+04  \n",
       "25%       1.000000    1.254403e+09  7.441788e+05  \n",
       "50%       1.000000    1.327637e+09  1.140840e+06  \n",
       "75%       1.000000    1.397121e+09  1.777379e+06  \n",
       "max       3.000000    1.496418e+09  4.722711e+07  "
      ]
     },
     "execution_count": 15,
     "metadata": {},
     "output_type": "execute_result"
    },
    {
     "name": "stdout",
     "output_type": "stream",
     "text": [
      "Description of female speaker TED data:\n"
     ]
    },
    {
     "data": {
      "text/html": [
       "<div>\n",
       "<style scoped>\n",
       "    .dataframe tbody tr th:only-of-type {\n",
       "        vertical-align: middle;\n",
       "    }\n",
       "\n",
       "    .dataframe tbody tr th {\n",
       "        vertical-align: top;\n",
       "    }\n",
       "\n",
       "    .dataframe thead th {\n",
       "        text-align: right;\n",
       "    }\n",
       "</style>\n",
       "<table border=\"1\" class=\"dataframe\">\n",
       "  <thead>\n",
       "    <tr style=\"text-align: right;\">\n",
       "      <th></th>\n",
       "      <th>Unnamed: 0.1</th>\n",
       "      <th>comments</th>\n",
       "      <th>duration</th>\n",
       "      <th>film_date</th>\n",
       "      <th>languages</th>\n",
       "      <th>num_speaker</th>\n",
       "      <th>published_date</th>\n",
       "      <th>views</th>\n",
       "    </tr>\n",
       "  </thead>\n",
       "  <tbody>\n",
       "    <tr>\n",
       "      <th>count</th>\n",
       "      <td>664.000000</td>\n",
       "      <td>664.000000</td>\n",
       "      <td>664.000000</td>\n",
       "      <td>6.640000e+02</td>\n",
       "      <td>664.000000</td>\n",
       "      <td>664.000000</td>\n",
       "      <td>6.640000e+02</td>\n",
       "      <td>6.640000e+02</td>\n",
       "    </tr>\n",
       "    <tr>\n",
       "      <th>mean</th>\n",
       "      <td>1395.486446</td>\n",
       "      <td>189.010542</td>\n",
       "      <td>791.581325</td>\n",
       "      <td>1.343340e+09</td>\n",
       "      <td>28.349398</td>\n",
       "      <td>1.031627</td>\n",
       "      <td>1.359278e+09</td>\n",
       "      <td>1.749397e+06</td>\n",
       "    </tr>\n",
       "    <tr>\n",
       "      <th>std</th>\n",
       "      <td>707.159476</td>\n",
       "      <td>252.062087</td>\n",
       "      <td>312.940237</td>\n",
       "      <td>1.040754e+08</td>\n",
       "      <td>8.280248</td>\n",
       "      <td>0.252695</td>\n",
       "      <td>9.042287e+07</td>\n",
       "      <td>2.692399e+06</td>\n",
       "    </tr>\n",
       "    <tr>\n",
       "      <th>min</th>\n",
       "      <td>6.000000</td>\n",
       "      <td>6.000000</td>\n",
       "      <td>140.000000</td>\n",
       "      <td>8.863776e+08</td>\n",
       "      <td>0.000000</td>\n",
       "      <td>1.000000</td>\n",
       "      <td>1.152490e+09</td>\n",
       "      <td>1.211860e+05</td>\n",
       "    </tr>\n",
       "    <tr>\n",
       "      <th>25%</th>\n",
       "      <td>828.750000</td>\n",
       "      <td>64.000000</td>\n",
       "      <td>577.750000</td>\n",
       "      <td>1.284444e+09</td>\n",
       "      <td>24.000000</td>\n",
       "      <td>1.000000</td>\n",
       "      <td>1.292349e+09</td>\n",
       "      <td>8.142825e+05</td>\n",
       "    </tr>\n",
       "    <tr>\n",
       "      <th>50%</th>\n",
       "      <td>1453.000000</td>\n",
       "      <td>120.000000</td>\n",
       "      <td>794.000000</td>\n",
       "      <td>1.355530e+09</td>\n",
       "      <td>28.000000</td>\n",
       "      <td>1.000000</td>\n",
       "      <td>1.362929e+09</td>\n",
       "      <td>1.132388e+06</td>\n",
       "    </tr>\n",
       "    <tr>\n",
       "      <th>75%</th>\n",
       "      <td>2037.250000</td>\n",
       "      <td>208.250000</td>\n",
       "      <td>1008.750000</td>\n",
       "      <td>1.432426e+09</td>\n",
       "      <td>33.000000</td>\n",
       "      <td>1.000000</td>\n",
       "      <td>1.441141e+09</td>\n",
       "      <td>1.617353e+06</td>\n",
       "    </tr>\n",
       "    <tr>\n",
       "      <th>max</th>\n",
       "      <td>2465.000000</td>\n",
       "      <td>2877.000000</td>\n",
       "      <td>2853.000000</td>\n",
       "      <td>1.492992e+09</td>\n",
       "      <td>57.000000</td>\n",
       "      <td>4.000000</td>\n",
       "      <td>1.496401e+09</td>\n",
       "      <td>4.315540e+07</td>\n",
       "    </tr>\n",
       "  </tbody>\n",
       "</table>\n",
       "</div>"
      ],
      "text/plain": [
       "       Unnamed: 0.1     comments     duration     film_date   languages  \\\n",
       "count    664.000000   664.000000   664.000000  6.640000e+02  664.000000   \n",
       "mean    1395.486446   189.010542   791.581325  1.343340e+09   28.349398   \n",
       "std      707.159476   252.062087   312.940237  1.040754e+08    8.280248   \n",
       "min        6.000000     6.000000   140.000000  8.863776e+08    0.000000   \n",
       "25%      828.750000    64.000000   577.750000  1.284444e+09   24.000000   \n",
       "50%     1453.000000   120.000000   794.000000  1.355530e+09   28.000000   \n",
       "75%     2037.250000   208.250000  1008.750000  1.432426e+09   33.000000   \n",
       "max     2465.000000  2877.000000  2853.000000  1.492992e+09   57.000000   \n",
       "\n",
       "       num_speaker  published_date         views  \n",
       "count   664.000000    6.640000e+02  6.640000e+02  \n",
       "mean      1.031627    1.359278e+09  1.749397e+06  \n",
       "std       0.252695    9.042287e+07  2.692399e+06  \n",
       "min       1.000000    1.152490e+09  1.211860e+05  \n",
       "25%       1.000000    1.292349e+09  8.142825e+05  \n",
       "50%       1.000000    1.362929e+09  1.132388e+06  \n",
       "75%       1.000000    1.441141e+09  1.617353e+06  \n",
       "max       4.000000    1.496401e+09  4.315540e+07  "
      ]
     },
     "execution_count": 15,
     "metadata": {},
     "output_type": "execute_result"
    }
   ],
   "source": [
    "menTED = data_trimmed[data_trimmed['gender'] == 'male']\n",
    "womenTED = data_trimmed[data_trimmed['gender'] == 'female']\n",
    "print('Description of male speaker TED data:')\n",
    "menTED.describe()\n",
    "print('Description of female speaker TED data:')\n",
    "womenTED.describe()"
   ]
  },
  {
   "cell_type": "markdown",
   "metadata": {},
   "source": [
    "Let's compare the frequency of words:"
   ]
  },
  {
   "cell_type": "code",
   "execution_count": 16,
   "metadata": {},
   "outputs": [
    {
     "name": "stdout",
     "output_type": "stream",
     "text": [
      "Total number of words:  3124571\n",
      "Removing the stop words... \n",
      "Total number of words excluding stop words:  1571601\n",
      "Male Speaker Number of unique words: (excluding stop words like 'the') 80611\n"
     ]
    },
    {
     "data": {
      "image/png": "[encoded data removed]",
      "text/plain": [
       "<matplotlib.figure.Figure at 0x7fbc6627d2e8>"
      ]
     },
     "metadata": {},
     "output_type": "display_data"
    },
    {
     "name": "stdout",
     "output_type": "stream",
     "text": [
      "Total number of words:  1336634\n",
      "Removing the stop words... \n",
      "Total number of words excluding stop words:  671475\n",
      "Female Speaker Number of unique words: (excluding stop words like 'the') 50600\n"
     ]
    },
    {
     "data": {
      "image/png": "[encoded data removed]",
      "text/plain": [
       "<matplotlib.figure.Figure at 0x7fbc65e8d860>"
      ]
     },
     "metadata": {},
     "output_type": "display_data"
    }
   ],
   "source": [
    "maleCommonWords = mostFrequentWords(menTED,75,'Male Speaker',normalize=True)\n",
    "femaleCommonWords = mostFrequentWords(womenTED,75,'Female Speaker',normalize=True)"
   ]
  },
  {
   "cell_type": "code",
   "execution_count": 17,
   "metadata": {},
   "outputs": [
    {
     "name": "stdout",
     "output_type": "stream",
     "text": [
      "['that,', 'percent', 'know,', 'find']\n",
      "['started', 'never', 'change', 'didnt']\n"
     ]
    }
   ],
   "source": [
    "onlyMaleCommonWords = [word for word in maleCommonWords.keys() if word not in femaleCommonWords]\n",
    "print(onlyMaleCommonWords) \n",
    "onlyFemaleCommonWords = [word for word in femaleCommonWords.keys() if word not in maleCommonWords]\n",
    "print(onlyFemaleCommonWords)"
   ]
  },
  {
   "cell_type": "markdown",
   "metadata": {},
   "source": [
    "### Previous research on the differences of speech patterns between men and women, we have found that women are more likely to use speech qualifiers/intensifiers such as 'very','so','such','extremely','really','totally','absolutely', or 'too'. Let's look into that a little more here and compare our talks:"
   ]
  },
  {
   "cell_type": "code",
   "execution_count": 18,
   "metadata": {},
   "outputs": [],
   "source": [
    "def menVsWomenWordCounts(wordsToCount):    \n",
    "    maleWords = getWords(menTED,removeStopWords=False)\n",
    "    femaleWords = getWords(womenTED,removeStopWords=False)\n",
    "\n",
    "    # Get counts for each word\n",
    "    maleWordCounts = Counter(maleWords)\n",
    "    femaleWordCounts = Counter(femaleWords)\n",
    "\n",
    "    # Normalize counts by number of total words spoken by men \n",
    "    normalizedMaleWordCounts = {}\n",
    "    for word,count in dict(maleWordCounts).items():\n",
    "        normalizedMaleWordCounts[word] = count/float(len(maleWords))\n",
    "\n",
    "    # Normalize counts by number of total words spoken by women \n",
    "    normalizedFemaleWordCounts = {}\n",
    "    for word,count in dict(femaleWordCounts).items():\n",
    "        normalizedFemaleWordCounts[word] = count/float(len(femaleWords))\n",
    "\n",
    "    maleCount = 0\n",
    "    for word,count in normalizedMaleWordCounts.items():\n",
    "        if word in wordsToCount:\n",
    "            maleCount += count\n",
    "        \n",
    "    femaleCount = 0\n",
    "    for word,count in normalizedFemaleWordCounts.items():\n",
    "        if word in wordsToCount:\n",
    "            femaleCount += count\n",
    "            \n",
    "    return maleCount, femaleCount"
   ]
  },
  {
   "cell_type": "code",
   "execution_count": 19,
   "metadata": {},
   "outputs": [
    {
     "name": "stdout",
     "output_type": "stream",
     "text": [
      "Total number of words:  3124571\n",
      "Total number of words:  1336634\n",
      "Percentage of intensifier words for men: 0.012886569068201684\n",
      "Percentage of intensifier words for women: 0.012901063417509955\n"
     ]
    }
   ],
   "source": [
    "intensifiers = ['very','so','such','really','totally','too']\n",
    "maleIntensifierCount, femaleIntensifierCount = menVsWomenWordCounts(intensifiers)\n",
    "\n",
    "print('Percentage of intensifier words for men:',maleIntensifierCount)\n",
    "print('Percentage of intensifier words for women:',femaleIntensifierCount)"
   ]
  },
  {
   "cell_type": "markdown",
   "metadata": {},
   "source": [
    "Our data does not reflect the findings in these studies about intensifier words.\n",
    "In fact, our male TED speakers actually tend to use these words more frequently than do the women. Some other studies https://www.washingtonpost.com/news/the-intersect/wp/2016/05/28/these-are-the-words-most-associated-with-men-and-women-according-to-facebook-status-updates/?noredirect=on&utm_term=.54981ab1318a have shown that women tend to use words that are more \"warm and agreeable\""
   ]
  },
  {
   "cell_type": "code",
   "execution_count": 20,
   "metadata": {},
   "outputs": [
    {
     "name": "stdout",
     "output_type": "stream",
     "text": [
      "Total number of words:  3124571\n",
      "Total number of words:  1336634\n",
      "Percentage of warm and agreeable words for men:   0.0008449159900671165\n",
      "Percentage of warm and agreeable words for women: 0.00105937751097159\n"
     ]
    }
   ],
   "source": [
    "warmAndAgreeable = ['family','friends','wonderful','blessed','amazing','loving','husband','thankful']\n",
    "maleWarmAgreeableCount, femaleWarmAgreeableCount = menVsWomenWordCounts(warmAndAgreeable)\n",
    "\n",
    "print('Percentage of warm and agreeable words for men:  ',maleWarmAgreeableCount)\n",
    "print('Percentage of warm and agreeable words for women:',femaleWarmAgreeableCount)"
   ]
  },
  {
   "cell_type": "code",
   "execution_count": 21,
   "metadata": {},
   "outputs": [
    {
     "name": "stdout",
     "output_type": "stream",
     "text": [
      "Total number of words:  3124571\n",
      "Total number of words:  1336634\n",
      "Percentage of cold hearted words for men:   0.00034372718686821323\n",
      "Percentage of cold hearted words for women: 0.0004114813778491345\n"
     ]
    }
   ],
   "source": [
    "coldHearted = ['kill','kills','dead','killing','die','swear','dead','murder']\n",
    "maleColdHeartedCount, femaleColdHeartedCount = menVsWomenWordCounts(coldHearted)\n",
    "\n",
    "print('Percentage of cold hearted words for men:  ',maleColdHeartedCount)\n",
    "print('Percentage of cold hearted words for women:',femaleColdHeartedCount)"
   ]
  },
  {
   "cell_type": "code",
   "execution_count": 22,
   "metadata": {},
   "outputs": [
    {
     "name": "stdout",
     "output_type": "stream",
     "text": [
      "Total number of words:  3124571\n",
      "Total number of words:  1336634\n",
      "Percentage of rational words for men:   0.0007620246107385623\n",
      "Percentage of rational words for women: 0.0007773257301550014\n"
     ]
    }
   ],
   "source": [
    "rational = ['opinion','opinions','logic','logical','based','political','fact','moral','beliefs']\n",
    "maleRationalCount, femaleRationalCount = menVsWomenWordCounts(rational)\n",
    "print('Percentage of rational words for men:  ',maleRationalCount)\n",
    "print('Percentage of rational words for women:',femaleRationalCount)"
   ]
  },
  {
   "cell_type": "markdown",
   "metadata": {},
   "source": [
    "Let's compare speed of speech of men and women. "
   ]
  },
  {
   "cell_type": "code",
   "execution_count": 23,
   "metadata": {},
   "outputs": [
    {
     "data": {
      "text/html": [
       "<div>\n",
       "<style scoped>\n",
       "    .dataframe tbody tr th:only-of-type {\n",
       "        vertical-align: middle;\n",
       "    }\n",
       "\n",
       "    .dataframe tbody tr th {\n",
       "        vertical-align: top;\n",
       "    }\n",
       "\n",
       "    .dataframe thead th {\n",
       "        text-align: right;\n",
       "    }\n",
       "</style>\n",
       "<table border=\"1\" class=\"dataframe\">\n",
       "  <thead>\n",
       "    <tr style=\"text-align: right;\">\n",
       "      <th></th>\n",
       "      <th>Unnamed: 0.1</th>\n",
       "      <th>transcript</th>\n",
       "      <th>url</th>\n",
       "      <th>clean_transcripts</th>\n",
       "      <th>comments</th>\n",
       "      <th>description</th>\n",
       "      <th>duration</th>\n",
       "      <th>event</th>\n",
       "      <th>film_date</th>\n",
       "      <th>languages</th>\n",
       "      <th>...</th>\n",
       "      <th>published_date</th>\n",
       "      <th>ratings</th>\n",
       "      <th>related_talks</th>\n",
       "      <th>speaker_occupation</th>\n",
       "      <th>tags</th>\n",
       "      <th>title</th>\n",
       "      <th>url.1</th>\n",
       "      <th>views</th>\n",
       "      <th>stripped_transcripts</th>\n",
       "      <th>gender</th>\n",
       "    </tr>\n",
       "  </thead>\n",
       "  <tbody>\n",
       "    <tr>\n",
       "      <th>0</th>\n",
       "      <td>0</td>\n",
       "      <td>Good morning. How are you?(Laughter)It's been ...</td>\n",
       "      <td>https://www.ted.com/talks/ken_robinson_says_sc...</td>\n",
       "      <td>good morning\\nhow are you\\nlaughter\\nits been ...</td>\n",
       "      <td>4553</td>\n",
       "      <td>Sir Ken Robinson makes an entertaining and pro...</td>\n",
       "      <td>1164</td>\n",
       "      <td>TED2006</td>\n",
       "      <td>1140825600</td>\n",
       "      <td>60</td>\n",
       "      <td>...</td>\n",
       "      <td>1151367060</td>\n",
       "      <td>[{'id': 7, 'name': 'Funny', 'count': 19645}, {...</td>\n",
       "      <td>[{'id': 865, 'hero': 'https://pe.tedcdn.com/im...</td>\n",
       "      <td>Author/educator</td>\n",
       "      <td>['children', 'creativity', 'culture', 'dance',...</td>\n",
       "      <td>Do schools kill creativity?</td>\n",
       "      <td>https://www.ted.com/talks/ken_robinson_says_sc...</td>\n",
       "      <td>47227110</td>\n",
       "      <td>['good', 'morning', 'how', 'are', 'you', 'laug...</td>\n",
       "      <td>male</td>\n",
       "    </tr>\n",
       "    <tr>\n",
       "      <th>1</th>\n",
       "      <td>1</td>\n",
       "      <td>Thank you so much, Chris. And it's truly a gre...</td>\n",
       "      <td>https://www.ted.com/talks/al_gore_on_averting_...</td>\n",
       "      <td>thank you so much, chris\\nand its truly a grea...</td>\n",
       "      <td>265</td>\n",
       "      <td>With the same humor and humanity he exuded in ...</td>\n",
       "      <td>977</td>\n",
       "      <td>TED2006</td>\n",
       "      <td>1140825600</td>\n",
       "      <td>43</td>\n",
       "      <td>...</td>\n",
       "      <td>1151367060</td>\n",
       "      <td>[{'id': 7, 'name': 'Funny', 'count': 544}, {'i...</td>\n",
       "      <td>[{'id': 243, 'hero': 'https://pe.tedcdn.com/im...</td>\n",
       "      <td>Climate advocate</td>\n",
       "      <td>['alternative energy', 'cars', 'climate change...</td>\n",
       "      <td>Averting the climate crisis</td>\n",
       "      <td>https://www.ted.com/talks/al_gore_on_averting_...</td>\n",
       "      <td>3200520</td>\n",
       "      <td>['thank', 'you', 'so', 'much,', 'chris', 'and'...</td>\n",
       "      <td>male</td>\n",
       "    </tr>\n",
       "    <tr>\n",
       "      <th>2</th>\n",
       "      <td>2</td>\n",
       "      <td>(Music: \"The Sound of Silence,\" Simon &amp; Garfun...</td>\n",
       "      <td>https://www.ted.com/talks/david_pogue_says_sim...</td>\n",
       "      <td>music: the sound of silence, simon &amp; garfunkel...</td>\n",
       "      <td>124</td>\n",
       "      <td>New York Times columnist David Pogue takes aim...</td>\n",
       "      <td>1286</td>\n",
       "      <td>TED2006</td>\n",
       "      <td>1140739200</td>\n",
       "      <td>26</td>\n",
       "      <td>...</td>\n",
       "      <td>1151367060</td>\n",
       "      <td>[{'id': 7, 'name': 'Funny', 'count': 964}, {'i...</td>\n",
       "      <td>[{'id': 1725, 'hero': 'https://pe.tedcdn.com/i...</td>\n",
       "      <td>Technology columnist</td>\n",
       "      <td>['computers', 'entertainment', 'interface desi...</td>\n",
       "      <td>Simplicity sells</td>\n",
       "      <td>https://www.ted.com/talks/david_pogue_says_sim...</td>\n",
       "      <td>1636292</td>\n",
       "      <td>['music:', 'the', 'sound', 'of', 'silence,', '...</td>\n",
       "      <td>male</td>\n",
       "    </tr>\n",
       "    <tr>\n",
       "      <th>4</th>\n",
       "      <td>4</td>\n",
       "      <td>About 10 years ago, I took on the task to teac...</td>\n",
       "      <td>https://www.ted.com/talks/hans_rosling_shows_t...</td>\n",
       "      <td>about 10 years ago, i took on the task to teac...</td>\n",
       "      <td>593</td>\n",
       "      <td>You've never seen data presented like this. Wi...</td>\n",
       "      <td>1190</td>\n",
       "      <td>TED2006</td>\n",
       "      <td>1140566400</td>\n",
       "      <td>48</td>\n",
       "      <td>...</td>\n",
       "      <td>1151440680</td>\n",
       "      <td>[{'id': 9, 'name': 'Ingenious', 'count': 3202}...</td>\n",
       "      <td>[{'id': 2056, 'hero': 'https://pe.tedcdn.com/i...</td>\n",
       "      <td>Global health expert; data visionary</td>\n",
       "      <td>['Africa', 'Asia', 'Google', 'demo', 'economic...</td>\n",
       "      <td>The best stats you've ever seen</td>\n",
       "      <td>https://www.ted.com/talks/hans_rosling_shows_t...</td>\n",
       "      <td>12005869</td>\n",
       "      <td>['about', '10', 'years', 'ago,', 'i', 'took', ...</td>\n",
       "      <td>male</td>\n",
       "    </tr>\n",
       "    <tr>\n",
       "      <th>5</th>\n",
       "      <td>5</td>\n",
       "      <td>Thank you. I have to tell you I'm both challen...</td>\n",
       "      <td>https://www.ted.com/talks/tony_robbins_asks_wh...</td>\n",
       "      <td>thank you\\ni have to tell you im both challeng...</td>\n",
       "      <td>672</td>\n",
       "      <td>Tony Robbins discusses the \"invisible forces\" ...</td>\n",
       "      <td>1305</td>\n",
       "      <td>TED2006</td>\n",
       "      <td>1138838400</td>\n",
       "      <td>36</td>\n",
       "      <td>...</td>\n",
       "      <td>1151440680</td>\n",
       "      <td>[{'id': 7, 'name': 'Funny', 'count': 1102}, {'...</td>\n",
       "      <td>[{'id': 229, 'hero': 'https://pe.tedcdn.com/im...</td>\n",
       "      <td>Life coach; expert in leadership psychology</td>\n",
       "      <td>['business', 'culture', 'entertainment', 'goal...</td>\n",
       "      <td>Why we do what we do</td>\n",
       "      <td>https://www.ted.com/talks/tony_robbins_asks_wh...</td>\n",
       "      <td>20685401</td>\n",
       "      <td>['thank', 'you', 'i', 'have', 'to', 'tell', 'y...</td>\n",
       "      <td>male</td>\n",
       "    </tr>\n",
       "  </tbody>\n",
       "</table>\n",
       "<p>5 rows × 23 columns</p>\n",
       "</div>"
      ],
      "text/plain": [
       "   Unnamed: 0.1                                         transcript  \\\n",
       "0             0  Good morning. How are you?(Laughter)It's been ...   \n",
       "1             1  Thank you so much, Chris. And it's truly a gre...   \n",
       "2             2  (Music: \"The Sound of Silence,\" Simon & Garfun...   \n",
       "4             4  About 10 years ago, I took on the task to teac...   \n",
       "5             5  Thank you. I have to tell you I'm both challen...   \n",
       "\n",
       "                                                 url  \\\n",
       "0  https://www.ted.com/talks/ken_robinson_says_sc...   \n",
       "1  https://www.ted.com/talks/al_gore_on_averting_...   \n",
       "2  https://www.ted.com/talks/david_pogue_says_sim...   \n",
       "4  https://www.ted.com/talks/hans_rosling_shows_t...   \n",
       "5  https://www.ted.com/talks/tony_robbins_asks_wh...   \n",
       "\n",
       "                                   clean_transcripts  comments  \\\n",
       "0  good morning\\nhow are you\\nlaughter\\nits been ...      4553   \n",
       "1  thank you so much, chris\\nand its truly a grea...       265   \n",
       "2  music: the sound of silence, simon & garfunkel...       124   \n",
       "4  about 10 years ago, i took on the task to teac...       593   \n",
       "5  thank you\\ni have to tell you im both challeng...       672   \n",
       "\n",
       "                                         description  duration    event  \\\n",
       "0  Sir Ken Robinson makes an entertaining and pro...      1164  TED2006   \n",
       "1  With the same humor and humanity he exuded in ...       977  TED2006   \n",
       "2  New York Times columnist David Pogue takes aim...      1286  TED2006   \n",
       "4  You've never seen data presented like this. Wi...      1190  TED2006   \n",
       "5  Tony Robbins discusses the \"invisible forces\" ...      1305  TED2006   \n",
       "\n",
       "    film_date  languages  ...   published_date  \\\n",
       "0  1140825600         60  ...       1151367060   \n",
       "1  1140825600         43  ...       1151367060   \n",
       "2  1140739200         26  ...       1151367060   \n",
       "4  1140566400         48  ...       1151440680   \n",
       "5  1138838400         36  ...       1151440680   \n",
       "\n",
       "                                             ratings  \\\n",
       "0  [{'id': 7, 'name': 'Funny', 'count': 19645}, {...   \n",
       "1  [{'id': 7, 'name': 'Funny', 'count': 544}, {'i...   \n",
       "2  [{'id': 7, 'name': 'Funny', 'count': 964}, {'i...   \n",
       "4  [{'id': 9, 'name': 'Ingenious', 'count': 3202}...   \n",
       "5  [{'id': 7, 'name': 'Funny', 'count': 1102}, {'...   \n",
       "\n",
       "                                       related_talks  \\\n",
       "0  [{'id': 865, 'hero': 'https://pe.tedcdn.com/im...   \n",
       "1  [{'id': 243, 'hero': 'https://pe.tedcdn.com/im...   \n",
       "2  [{'id': 1725, 'hero': 'https://pe.tedcdn.com/i...   \n",
       "4  [{'id': 2056, 'hero': 'https://pe.tedcdn.com/i...   \n",
       "5  [{'id': 229, 'hero': 'https://pe.tedcdn.com/im...   \n",
       "\n",
       "                            speaker_occupation  \\\n",
       "0                              Author/educator   \n",
       "1                             Climate advocate   \n",
       "2                         Technology columnist   \n",
       "4         Global health expert; data visionary   \n",
       "5  Life coach; expert in leadership psychology   \n",
       "\n",
       "                                                tags  \\\n",
       "0  ['children', 'creativity', 'culture', 'dance',...   \n",
       "1  ['alternative energy', 'cars', 'climate change...   \n",
       "2  ['computers', 'entertainment', 'interface desi...   \n",
       "4  ['Africa', 'Asia', 'Google', 'demo', 'economic...   \n",
       "5  ['business', 'culture', 'entertainment', 'goal...   \n",
       "\n",
       "                             title  \\\n",
       "0      Do schools kill creativity?   \n",
       "1      Averting the climate crisis   \n",
       "2                 Simplicity sells   \n",
       "4  The best stats you've ever seen   \n",
       "5             Why we do what we do   \n",
       "\n",
       "                                               url.1     views  \\\n",
       "0  https://www.ted.com/talks/ken_robinson_says_sc...  47227110   \n",
       "1  https://www.ted.com/talks/al_gore_on_averting_...   3200520   \n",
       "2  https://www.ted.com/talks/david_pogue_says_sim...   1636292   \n",
       "4  https://www.ted.com/talks/hans_rosling_shows_t...  12005869   \n",
       "5  https://www.ted.com/talks/tony_robbins_asks_wh...  20685401   \n",
       "\n",
       "                                stripped_transcripts gender  \n",
       "0  ['good', 'morning', 'how', 'are', 'you', 'laug...   male  \n",
       "1  ['thank', 'you', 'so', 'much,', 'chris', 'and'...   male  \n",
       "2  ['music:', 'the', 'sound', 'of', 'silence,', '...   male  \n",
       "4  ['about', '10', 'years', 'ago,', 'i', 'took', ...   male  \n",
       "5  ['thank', 'you', 'i', 'have', 'to', 'tell', 'y...   male  \n",
       "\n",
       "[5 rows x 23 columns]"
      ]
     },
     "execution_count": 23,
     "metadata": {},
     "output_type": "execute_result"
    }
   ],
   "source": [
    "menTED.head()"
   ]
  },
  {
   "cell_type": "code",
   "execution_count": 24,
   "metadata": {},
   "outputs": [],
   "source": [
    "WPM = []\n",
    "for row in data_trimmed.itertuples():\n",
    "    minutes = row.duration/float(60) # Duration is in seconds\n",
    "    numWords = len(row.clean_transcripts.split(' '))\n",
    "    WPM.append(numWords/float(minutes))\n",
    "data_trimmed['WPM'] = WPM"
   ]
  },
  {
   "cell_type": "code",
   "execution_count": 143,
   "metadata": {},
   "outputs": [
    {
     "data": {
      "image/png": "[encoded data removed]",
      "text/plain": [
       "<matplotlib.figure.Figure at 0x1a427e5978>"
      ]
     },
     "metadata": {},
     "output_type": "display_data"
    }
   ],
   "source": [
    "fig, axes = plt.subplots(nrows=1, ncols=2, figsize=(18, 6))\n",
    "# violin plots in seaborn require 2 catagorical variables ('x' and 'hue'). We use 'gender' for hue.\n",
    "placeholder = np.zeros(len(data_trimmed.WPM.values))\n",
    "_ = sns.violinplot(x=placeholder, y=data_trimmed.WPM, hue=data_trimmed.gender, ax=axes[0], palette='bright')\n",
    "_ = axes[0].set_title('Comparing Distribution of Speech Speed by Gender')\n",
    "_ = sns.boxplot(x=placeholder,y=data_trimmed.WPM,hue=data_trimmed.gender, ax = axes[1])\n",
    "_ = axes[1].set_title('Comparing Distribution of Speech Speed by Gender')\n",
    "plt.show()"
   ]
  },
  {
   "cell_type": "code",
   "execution_count": 25,
   "metadata": {},
   "outputs": [
    {
     "data": {
      "text/plain": [
       "male       1490\n",
       "female      664\n",
       "unknown     313\n",
       "Name: gender, dtype: int64"
      ]
     },
     "execution_count": 25,
     "metadata": {},
     "output_type": "execute_result"
    }
   ],
   "source": [
    "data_trimmed['gender'].value_counts()"
   ]
  },
  {
   "cell_type": "markdown",
   "metadata": {},
   "source": [
    "12.68% of our data is categorized as unknown."
   ]
  },
  {
   "cell_type": "code",
   "execution_count": 26,
   "metadata": {},
   "outputs": [],
   "source": [
    "temp_df = data_trimmed[data_trimmed['gender'] == 'unknown']"
   ]
  },
  {
   "cell_type": "code",
   "execution_count": 35,
   "metadata": {},
   "outputs": [],
   "source": [
    "filename = 'unknown_gender.csv'\n",
    "filepath = os.getcwd() + \"/../data/\"\n",
    "temp_df.to_csv(filepath+filename,encoding ='utf-8')"
   ]
  },
  {
   "cell_type": "code",
   "execution_count": 36,
   "metadata": {},
   "outputs": [],
   "source": []
  },
  {
   "cell_type": "code",
   "execution_count": null,
   "metadata": {},
   "outputs": [],
   "source": []
  }
 ],
 "metadata": {
  "kernelspec": {
   "display_name": "Python 3",
   "language": "python",
   "name": "python3"
  },
  "language_info": {
   "codemirror_mode": {
    "name": "ipython",
    "version": 3
   },
   "file_extension": ".py",
   "mimetype": "text/x-python",
   "name": "python",
   "nbconvert_exporter": "python",
   "pygments_lexer": "ipython3",
   "version": "3.5.2"
  }
 },
 "nbformat": 4,
 "nbformat_minor": 2
}
